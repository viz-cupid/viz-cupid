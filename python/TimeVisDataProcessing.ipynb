{
 "cells": [
  {
   "cell_type": "code",
   "execution_count": 1,
   "metadata": {},
   "outputs": [],
   "source": [
    "import pandas as pd\n",
    "import numpy as np"
   ]
  },
  {
   "cell_type": "code",
   "execution_count": 2,
   "metadata": {},
   "outputs": [
    {
     "name": "stderr",
     "output_type": "stream",
     "text": [
      "/usr/local/lib/python3.7/site-packages/IPython/core/interactiveshell.py:3020: DtypeWarning: Columns (47,102) have mixed types. Specify dtype option on import or set low_memory=False.\n",
      "  interactivity=interactivity, compiler=compiler, result=result)\n"
     ]
    }
   ],
   "source": [
    "hcmst = pd.read_csv(\"hcmst2017.csv\", encoding=\"mac_roman\")"
   ]
  },
  {
   "cell_type": "code",
   "execution_count": 3,
   "metadata": {},
   "outputs": [
    {
     "data": {
      "text/html": [
       "<div>\n",
       "<style scoped>\n",
       "    .dataframe tbody tr th:only-of-type {\n",
       "        vertical-align: middle;\n",
       "    }\n",
       "\n",
       "    .dataframe tbody tr th {\n",
       "        vertical-align: top;\n",
       "    }\n",
       "\n",
       "    .dataframe thead th {\n",
       "        text-align: right;\n",
       "    }\n",
       "</style>\n",
       "<table border=\"1\" class=\"dataframe\">\n",
       "  <thead>\n",
       "    <tr style=\"text-align: right;\">\n",
       "      <th></th>\n",
       "      <th>same_sex</th>\n",
       "      <th>year_met</th>\n",
       "      <th>month_met</th>\n",
       "      <th>year_dating</th>\n",
       "      <th>month_dating</th>\n",
       "      <th>year_movein</th>\n",
       "      <th>month_movein</th>\n",
       "      <th>year_marry</th>\n",
       "      <th>month_marry</th>\n",
       "    </tr>\n",
       "  </thead>\n",
       "  <tbody>\n",
       "    <tr>\n",
       "      <th>1</th>\n",
       "      <td>NaN</td>\n",
       "      <td>1983</td>\n",
       "      <td>May</td>\n",
       "      <td>1995</td>\n",
       "      <td>August</td>\n",
       "      <td>1996</td>\n",
       "      <td>February</td>\n",
       "      <td>1996</td>\n",
       "      <td>February</td>\n",
       "    </tr>\n",
       "    <tr>\n",
       "      <th>2</th>\n",
       "      <td>NaN</td>\n",
       "      <td>2006</td>\n",
       "      <td>January</td>\n",
       "      <td>2006</td>\n",
       "      <td>June</td>\n",
       "      <td>2006</td>\n",
       "      <td>July</td>\n",
       "      <td>2008</td>\n",
       "      <td>May</td>\n",
       "    </tr>\n",
       "    <tr>\n",
       "      <th>4</th>\n",
       "      <td>NaN</td>\n",
       "      <td>1983</td>\n",
       "      <td>September</td>\n",
       "      <td>1983</td>\n",
       "      <td>October</td>\n",
       "      <td>1984</td>\n",
       "      <td>August</td>\n",
       "      <td>1984</td>\n",
       "      <td>August</td>\n",
       "    </tr>\n",
       "    <tr>\n",
       "      <th>5</th>\n",
       "      <td>No, we are an opposite-sex couple</td>\n",
       "      <td>1981</td>\n",
       "      <td>December</td>\n",
       "      <td>1982</td>\n",
       "      <td>June</td>\n",
       "      <td>1982</td>\n",
       "      <td>June</td>\n",
       "      <td>1982</td>\n",
       "      <td>June</td>\n",
       "    </tr>\n",
       "    <tr>\n",
       "      <th>6</th>\n",
       "      <td>NaN</td>\n",
       "      <td>1966</td>\n",
       "      <td>October</td>\n",
       "      <td>1967</td>\n",
       "      <td>January</td>\n",
       "      <td>1969</td>\n",
       "      <td>August</td>\n",
       "      <td>1969</td>\n",
       "      <td>August</td>\n",
       "    </tr>\n",
       "  </tbody>\n",
       "</table>\n",
       "</div>"
      ],
      "text/plain": [
       "                            same_sex year_met  month_met year_dating  \\\n",
       "1                                NaN     1983        May        1995   \n",
       "2                                NaN     2006    January        2006   \n",
       "4                                NaN     1983  September        1983   \n",
       "5  No, we are an opposite-sex couple     1981   December        1982   \n",
       "6                                NaN     1966    October        1967   \n",
       "\n",
       "  month_dating year_movein month_movein year_marry month_marry  \n",
       "1       August        1996     February       1996    February  \n",
       "2         June        2006         July       2008         May  \n",
       "4      October        1984       August       1984      August  \n",
       "5         June        1982         June       1982        June  \n",
       "6      January        1969       August       1969      August  "
      ]
     },
     "execution_count": 3,
     "metadata": {},
     "output_type": "execute_result"
    }
   ],
   "source": [
    "cols = [\"Q5\", \"Q21A_Year\", \"Q21A_Month\", \"Q21B_Year\", \"Q21B_Month\", \"Q21C_Year\", \"Q21C_Month\", \"Q21D_Year\", \"Q21D_Month\"]\n",
    "colnames = [\"same_sex\", \"year_met\", \"month_met\", \"year_dating\", \"month_dating\", \"year_movein\", \"month_movein\", \"year_marry\", \"month_marry\"]\n",
    "relevant = hcmst[cols]\n",
    "relevant.columns = colnames\n",
    "relevant = relevant.loc[relevant[\"year_met\"].notna()]\n",
    "relevant.head()\n"
   ]
  },
  {
   "cell_type": "code",
   "execution_count": 4,
   "metadata": {},
   "outputs": [],
   "source": [
    "def month_year(row):\n",
    "    year = row[0]\n",
    "    if pd.isna(year) or year == \"Refused\":\n",
    "        return np.nan\n",
    "    month = \"\" if row[1] == \"Refused\" or pd.isna(row[1]) else row[1] + \" \"\n",
    "    return month + year\n"
   ]
  },
  {
   "cell_type": "code",
   "execution_count": 5,
   "metadata": {},
   "outputs": [
    {
     "data": {
      "text/html": [
       "<div>\n",
       "<style scoped>\n",
       "    .dataframe tbody tr th:only-of-type {\n",
       "        vertical-align: middle;\n",
       "    }\n",
       "\n",
       "    .dataframe tbody tr th {\n",
       "        vertical-align: top;\n",
       "    }\n",
       "\n",
       "    .dataframe thead th {\n",
       "        text-align: right;\n",
       "    }\n",
       "</style>\n",
       "<table border=\"1\" class=\"dataframe\">\n",
       "  <thead>\n",
       "    <tr style=\"text-align: right;\">\n",
       "      <th></th>\n",
       "      <th>same_sex</th>\n",
       "      <th>met</th>\n",
       "      <th>dating</th>\n",
       "      <th>movein</th>\n",
       "      <th>marry</th>\n",
       "    </tr>\n",
       "  </thead>\n",
       "  <tbody>\n",
       "    <tr>\n",
       "      <th>1</th>\n",
       "      <td>-1</td>\n",
       "      <td>May 1983</td>\n",
       "      <td>August 1995</td>\n",
       "      <td>February 1996</td>\n",
       "      <td>February 1996</td>\n",
       "    </tr>\n",
       "    <tr>\n",
       "      <th>2</th>\n",
       "      <td>-1</td>\n",
       "      <td>January 2006</td>\n",
       "      <td>June 2006</td>\n",
       "      <td>July 2006</td>\n",
       "      <td>May 2008</td>\n",
       "    </tr>\n",
       "    <tr>\n",
       "      <th>4</th>\n",
       "      <td>-1</td>\n",
       "      <td>September 1983</td>\n",
       "      <td>October 1983</td>\n",
       "      <td>August 1984</td>\n",
       "      <td>August 1984</td>\n",
       "    </tr>\n",
       "    <tr>\n",
       "      <th>5</th>\n",
       "      <td>0</td>\n",
       "      <td>December 1981</td>\n",
       "      <td>June 1982</td>\n",
       "      <td>June 1982</td>\n",
       "      <td>June 1982</td>\n",
       "    </tr>\n",
       "    <tr>\n",
       "      <th>6</th>\n",
       "      <td>-1</td>\n",
       "      <td>October 1966</td>\n",
       "      <td>January 1967</td>\n",
       "      <td>August 1969</td>\n",
       "      <td>August 1969</td>\n",
       "    </tr>\n",
       "  </tbody>\n",
       "</table>\n",
       "</div>"
      ],
      "text/plain": [
       "   same_sex             met        dating         movein          marry\n",
       "1        -1        May 1983   August 1995  February 1996  February 1996\n",
       "2        -1    January 2006     June 2006      July 2006       May 2008\n",
       "4        -1  September 1983  October 1983    August 1984    August 1984\n",
       "5         0   December 1981     June 1982      June 1982      June 1982\n",
       "6        -1    October 1966  January 1967    August 1969    August 1969"
      ]
     },
     "execution_count": 5,
     "metadata": {},
     "output_type": "execute_result"
    }
   ],
   "source": [
    "clean = pd.DataFrame()\n",
    "clean[\"same_sex\"] = relevant[\"same_sex\"].apply(\n",
    "    lambda x: 0 if str(x).startswith(\"No\") else -1 if pd.isna(x) else 0)\n",
    "for stage in [\"met\", \"dating\", \"movein\", \"marry\"]:\n",
    "    clean[stage] = relevant[[\"year_\"+stage, \"month_\"+stage]].apply(month_year, axis=1)\n",
    "clean.head()"
   ]
  },
  {
   "cell_type": "code",
   "execution_count": 6,
   "metadata": {},
   "outputs": [],
   "source": [
    "clean.to_csv(\"../data/time-data.csv\", na_rep=\"null\", index=False)"
   ]
  },
  {
   "cell_type": "code",
   "execution_count": null,
   "metadata": {},
   "outputs": [],
   "source": []
  }
 ],
 "metadata": {
  "kernelspec": {
   "display_name": "Python 3",
   "language": "python",
   "name": "python3"
  },
  "language_info": {
   "codemirror_mode": {
    "name": "ipython",
    "version": 3
   },
   "file_extension": ".py",
   "mimetype": "text/x-python",
   "name": "python",
   "nbconvert_exporter": "python",
   "pygments_lexer": "ipython3",
   "version": "3.7.0"
  }
 },
 "nbformat": 4,
 "nbformat_minor": 2
}
