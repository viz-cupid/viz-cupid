{
 "cells": [
  {
   "cell_type": "markdown",
   "metadata": {},
   "source": [
    "# Matrix Visualization Notebook\n",
    "\n",
    "This notebook is for getting the data we need from HCMST2017 for the matrix visualization, which answers the question:\n",
    "\n",
    "How does frequency of sex influence quality of relationship?\n"
   ]
  },
  {
   "cell_type": "code",
   "execution_count": 1,
   "metadata": {},
   "outputs": [],
   "source": [
    "# The original HMCST2017 file comes as a Stata file, so I exported it from Stata as a CSV\n",
    "import csv"
   ]
  },
  {
   "cell_type": "code",
   "execution_count": 8,
   "metadata": {
    "scrolled": true
   },
   "outputs": [
    {
     "name": "stdout",
     "output_type": "stream",
     "text": [
      "CaseID\n",
      "CASEID_NEW\n",
      "qflag\n",
      "weight1\n",
      "weight1_freqwt\n",
      "weight2\n",
      "weight1a\n",
      "weight1a_freqwt\n",
      "weight_combo\n",
      "weight_combo_freqwt\n",
      "duration\n",
      "speed_flag\n",
      "consent\n",
      "xlgb\n",
      "S1\n",
      "S2\n",
      "S3\n",
      "DOV_Branch\n",
      "Q3_Refused\n",
      "Q4\n",
      "Q5\n",
      "Q6A\n",
      "Q6B\n",
      "Q9\n",
      "Q10\n",
      "Q11\n",
      "Q12\n",
      "Q14\n",
      "Q15A7\n",
      "Q16\n",
      "Q16_Refused\n",
      "Q17A\n",
      "Q17B\n",
      "Q17C\n",
      "Q17D\n",
      "Q19\n",
      "Q20\n",
      "Q21A_Year\n",
      "Q21A_Month\n",
      "Q21B_Year\n",
      "Q21B_Month\n",
      "Q21C_Year\n",
      "Q21C_Month\n",
      "Q21D_Year\n",
      "Q21D_Month\n",
      "w6_identity\n",
      "w6_outness\n",
      "w6_outness_timing\n",
      "Q23\n",
      "Q24_Refused\n",
      "Q25\n",
      "Q26\n",
      "Q27\n",
      "Q28\n",
      "w6_friend_connect_1\n",
      "w6_friend_connect_2\n",
      "w6_friend_connect_3\n",
      "w6_friend_connect_4\n",
      "w6_friend_connect_Refused\n",
      "Q32\n",
      "Q34\n",
      "Q35_Refused\n",
      "w6_sex_frequency\n",
      "w6_otherdate\n",
      "w6_how_many\n",
      "w6_how_meet_Refused\n",
      "w6_otherdate_app\n",
      "w6_how_many_app\n",
      "Past_Partner_Q1\n",
      "w6_relationship_end_nonmar\n",
      "w6_breakup_nonmar\n",
      "w6_relationship_end_mar\n",
      "w6_who_breakup\n",
      "Q5_2\n",
      "Q6A_2\n",
      "Q9B_2\n",
      "Q10_2\n",
      "Q11_2\n",
      "Q12_2\n",
      "Q14_2\n",
      "Q15A7_2_1\n",
      "Q16_2\n",
      "Q16_2_Codes\n",
      "Q17B_2\n",
      "Q17C_2\n",
      "Q17D_2\n",
      "Q20_2\n",
      "Q21A_2_Year\n",
      "Q21A_2_Month\n",
      "Q21B_2_Year\n",
      "Q21B_2_Month\n",
      "Q21C_2_Year\n",
      "Q21C_2_Month\n",
      "Q21D_2_Year\n",
      "Q21D_2_Month\n",
      "Q21E_2_Year\n",
      "Q21E_2_Month\n",
      "Q21F_2_start_range\n",
      "Q21F_2_Year\n",
      "Q21F_2_Month\n",
      "w6_identity_2\n",
      "w6_outness_2\n",
      "w6_outness_timing_2\n",
      "Q23_2\n",
      "Q25_2\n",
      "Q26_2\n",
      "Q27_2\n",
      "Q28_2\n",
      "w6_friend_connect_2_1\n",
      "w6_friend_connect_2_2\n",
      "w6_friend_connect_2_3\n",
      "w6_friend_connect_2_4\n",
      "w6_friend_connect_2_Refused\n",
      "Q32_2\n",
      "w6_otherdate_2\n",
      "w6_how_many_2\n",
      "w6_otherdate_app_2\n",
      "w6_how_many_app_2\n",
      "partyid7\n",
      "PERSNET_hom\n",
      "ppc10017\n",
      "ppc21310\n",
      "ppp20071\n",
      "ppp20072\n",
      "ppage\n",
      "ppagecat\n",
      "ppagect4\n",
      "ppeduc\n",
      "ppeducat\n",
      "ppethm\n",
      "ppgender\n",
      "pphhhead\n",
      "pphhsize\n",
      "pphouse\n",
      "ppincimp\n",
      "ppmarit\n",
      "ppmsacat\n",
      "PPREG4\n",
      "ppreg9\n",
      "pprent\n",
      "PPT01\n",
      "PPT25\n",
      "PPT612\n",
      "PPT1317\n",
      "PPT18OV\n",
      "ppwork\n",
      "Race_1\n",
      "Race_2\n",
      "Race_3\n",
      "Race_4\n",
      "Race_5\n",
      "Race_6\n",
      "race1\n",
      "race2\n",
      "race3\n",
      "race4\n",
      "race5\n",
      "race6\n",
      "race7\n",
      "race8\n",
      "race9\n",
      "race10\n",
      "race11\n",
      "race12\n",
      "race13\n",
      "race14\n",
      "race15\n",
      "w6_took_the_survey\n",
      "w6_prior_identity_lgb\n",
      "w6_same_sex_couple\n",
      "w6_same_sex_couple_gender\n",
      "w6_q4\n",
      "w6_q5\n",
      "w6_q6a\n",
      "w6_q6b\n",
      "w6_q9\n",
      "w6_q10\n",
      "w6_q11\n",
      "w6_q12\n",
      "w6_q14\n",
      "w6_q15a1_truncated\n",
      "w6_q15a4_truncated\n",
      "w6_q15a7\n",
      "w6_q16\n",
      "w6_q17\n",
      "w6_attraction\n",
      "w6_q19\n",
      "w6_q20\n",
      "w6_q21a_year\n",
      "w6_q21a_month\n",
      "w6_q21a_month_flag\n",
      "w6_q21b_year\n",
      "w6_q21b_month\n",
      "w6_q21b_month_flag\n",
      "w6_q21c_year\n",
      "w6_q21c_month\n",
      "w6_q21c_month_flag\n",
      "w6_q21d_year\n",
      "w6_q21d_month\n",
      "w6_q21e_year\n",
      "w6_q21e_month\n",
      "w6_q21f_year\n",
      "w6_q21f_month\n",
      "w6_identity_all\n",
      "w6_outness_all\n",
      "w6_outness_timing_all\n",
      "w6_q23\n",
      "w6_q24_length\n",
      "w6_q25\n",
      "w6_q26\n",
      "w6_q27\n",
      "w6_q28\n",
      "w6_friend_connect_1_all\n",
      "w6_friend_connect_2_all\n",
      "w6_friend_connect_3_all\n",
      "w6_friend_connect_4_all\n",
      "w6_q32\n",
      "w6_q34\n",
      "w6_otherdate_all\n",
      "w6_how_many_all\n",
      "w6_otherdate_app_all\n",
      "w6_how_many_app_all\n",
      "w6_number_people_met\n",
      "w6_otherdate_dichotomous\n",
      "w6_married\n",
      "relate_duration_at_w6_years\n",
      "w6_number_people_met_app\n",
      "weight_combo_v2\n",
      "partnership_status\n",
      "female\n",
      "year_fraction_met\n",
      "year_fraction_relstart\n",
      "age_when_met\n",
      "time_from_met_to_rel\n",
      "year_fraction_first_cohab\n",
      "time_from_rel_to_cohab\n",
      "hcm2017q24_R_cowork\n",
      "hcm2017q24_R_friend\n",
      "hcm2017q24_R_family\n",
      "hcm2017q24_R_sig_other\n",
      "hcm2017q24_R_neighbor\n",
      "hcm2017q24_P_cowork\n",
      "hcm2017q24_P_friend\n",
      "hcm2017q24_P_family\n",
      "hcm2017q24_P_sig_other\n",
      "hcm2017q24_P_neighbor\n",
      "hcm2017q24_btwn_I_cowork\n",
      "hcm2017q24_btwn_I_friend\n",
      "hcm2017q24_btwn_I_family\n",
      "hcm2017q24_btwn_I_sig_other\n",
      "hcm2017q24_btwn_I_neighbor\n",
      "hcm2017q24_school\n",
      "hcm2017q24_college\n",
      "hcm2017q24_mil\n",
      "hcm2017q24_church\n",
      "hcm2017q24_vol_org\n",
      "hcm2017q24_customer\n",
      "hcm2017q24_bar_restaurant\n",
      "hcm2017q24_party\n",
      "hcm2017q24_internet_other\n",
      "hcm2017q24_internet_dating\n",
      "hcm2017q24_internet_soc_network\n",
      "hcm2017q24_internet_game\n",
      "hcm2017q24_internet_chat\n",
      "hcm2017q24_internet_org\n",
      "hcm2017q24_public\n",
      "hcm2017q24_blind_date\n",
      "hcm2017q24_vacation\n",
      "hcm2017q24_single_serve_nonint\n",
      "hcm2017q24_business_trip\n",
      "hcm2017q24_work_neighbors\n",
      "hcm2017q24_met_online\n",
      "hcm2017_q24_length\n",
      "hcm2017q24_summary_all_codes\n",
      "w6_relationship_quality\n",
      "hcm2017q24_met_through_family\n",
      "hcm2017q24_met_through_friend\n",
      "hcm2017q24_met_through_as_nghbrs\n",
      "hcm2017q24_met_as_through_cowork\n",
      "w6_subject_race\n",
      "interracial_5cat\n",
      "partner_mother_yrsed\n",
      "subject_mother_yrsed\n",
      "partner_yrsed\n",
      "subject_yrsed\n",
      "\n"
     ]
    }
   ],
   "source": [
    "data = []\n",
    "with open('hcmst2017.csv', newline='', encoding='mac_roman') as csvfile:\n",
    "    reader = csv.DictReader(csvfile)\n",
    "    i = 0\n",
    "    for row in reader:\n",
    "        if i == 0:\n",
    "            keys = list(row.keys())\n",
    "            output = ''\n",
    "            for key in keys:\n",
    "                output += key + '\\n'\n",
    "            print(output)\n",
    "        i += 1\n",
    "        data.append(row)"
   ]
  },
  {
   "cell_type": "code",
   "execution_count": 16,
   "metadata": {},
   "outputs": [
    {
     "name": "stdout",
     "output_type": "stream",
     "text": [
      "2\n"
     ]
    }
   ],
   "source": [
    "print(data[2000][\"DOV_Branch\"])"
   ]
  },
  {
   "cell_type": "code",
   "execution_count": 24,
   "metadata": {},
   "outputs": [],
   "source": [
    "sex_frequency_types = set()\n",
    "for datum in data:\n",
    "    some_set.add(datum[\"w6_sex_frequency\"])"
   ]
  },
  {
   "cell_type": "code",
   "execution_count": 33,
   "metadata": {},
   "outputs": [
    {
     "name": "stdout",
     "output_type": "stream",
     "text": [
      "{'', 'good', 'very poor', 'excellent', 'poor', 'fair'}\n"
     ]
    }
   ],
   "source": [
    "quality_types = set()\n",
    "for datum in data:\n",
    "    quality_types.add(datum[\"w6_relationship_quality\"])\n",
    "print(quality_types)"
   ]
  },
  {
   "cell_type": "code",
   "execution_count": 35,
   "metadata": {},
   "outputs": [],
   "source": [
    "frequency_counts = dict()"
   ]
  },
  {
   "cell_type": "code",
   "execution_count": 29,
   "metadata": {},
   "outputs": [],
   "source": [
    "for person in data:\n",
    "    key = person[\"w6_sex_frequency\"]\n",
    "    \n",
    "    if key not in frequency_counts:\n",
    "        frequency_counts[key] = 0\n",
    "    \n",
    "    frequency_counts[key] += 1\n",
    "    "
   ]
  },
  {
   "cell_type": "code",
   "execution_count": null,
   "metadata": {},
   "outputs": [],
   "source": [
    "matrix_data = {}"
   ]
  },
  {
   "cell_type": "code",
   "execution_count": 37,
   "metadata": {},
   "outputs": [],
   "source": [
    "frequency_counts = dict()\n",
    "for person in data:\n",
    "    key1 = person[\"w6_sex_frequency\"]\n",
    "    key2 = person[\"w6_relationship_quality\"]\n",
    "    \n",
    "    if key1 not in frequency_counts:\n",
    "        frequency_counts[key1] = {}\n",
    "    \n",
    "    if key2 not in frequency_counts[key1]:\n",
    "        frequency_counts[key1][key2] = 0\n",
    "        \n",
    "    frequency_counts[key1][key2] += 1\n",
    "    "
   ]
  },
  {
   "cell_type": "code",
   "execution_count": 38,
   "metadata": {},
   "outputs": [
    {
     "data": {
      "text/plain": [
       "{'': {'': 654},\n",
       " 'Once a month or less': {'excellent': 482,\n",
       "  'good': 359,\n",
       "  'fair': 95,\n",
       "  'poor': 19,\n",
       "  'very poor': 13,\n",
       "  '': 1},\n",
       " '2 to 3 times a month': {'good': 156,\n",
       "  'excellent': 324,\n",
       "  'fair': 28,\n",
       "  'very poor': 5,\n",
       "  'poor': 6},\n",
       " '3 to 6 times a week': {'excellent': 256, 'fair': 21, 'good': 90, 'poor': 1},\n",
       " 'Once or twice a week': {'good': 206,\n",
       "  'excellent': 495,\n",
       "  'fair': 36,\n",
       "  'very poor': 1,\n",
       "  '': 2,\n",
       "  'poor': 4},\n",
       " 'Once a day or more': {'excellent': 53,\n",
       "  'fair': 9,\n",
       "  'good': 22,\n",
       "  'poor': 1,\n",
       "  'very poor': 1},\n",
       " 'Refused': {'good': 51,\n",
       "  'excellent': 96,\n",
       "  '': 6,\n",
       "  'fair': 13,\n",
       "  'very poor': 3,\n",
       "  'poor': 1}}"
      ]
     },
     "execution_count": 38,
     "metadata": {},
     "output_type": "execute_result"
    }
   ],
   "source": [
    "frequency_counts"
   ]
  },
  {
   "cell_type": "code",
   "execution_count": 60,
   "metadata": {},
   "outputs": [],
   "source": [
    "f = frequency_counts\n",
    "export_data = []\n",
    "for key in f:\n",
    "    if key == '':\n",
    "        continue\n",
    "    if 'very poor' not in f[key]:\n",
    "        f[key]['very poor'] = 0\n",
    "        \n",
    "    export_data.append(\n",
    "        { \"frequency\": key, \"ratings\": [\n",
    "        f[key]['very poor'],\n",
    "        f[key]['poor'],\n",
    "        f[key]['fair'],\n",
    "        f[key]['good'],\n",
    "        f[key]['excellent']\n",
    "    ]})"
   ]
  },
  {
   "cell_type": "code",
   "execution_count": 61,
   "metadata": {
    "scrolled": true
   },
   "outputs": [
    {
     "data": {
      "text/plain": [
       "[{'frequency': 'Once a month or less', 'ratings': [13, 19, 95, 359, 482]},\n",
       " {'frequency': '2 to 3 times a month', 'ratings': [5, 6, 28, 156, 324]},\n",
       " {'frequency': '3 to 6 times a week', 'ratings': [0, 1, 21, 90, 256]},\n",
       " {'frequency': 'Once or twice a week', 'ratings': [1, 4, 36, 206, 495]},\n",
       " {'frequency': 'Once a day or more', 'ratings': [1, 1, 9, 22, 53]},\n",
       " {'frequency': 'Refused', 'ratings': [3, 1, 13, 51, 96]}]"
      ]
     },
     "execution_count": 61,
     "metadata": {},
     "output_type": "execute_result"
    }
   ],
   "source": [
    "export_data"
   ]
  },
  {
   "cell_type": "code",
   "execution_count": 53,
   "metadata": {},
   "outputs": [],
   "source": [
    "import json"
   ]
  },
  {
   "cell_type": "code",
   "execution_count": 54,
   "metadata": {},
   "outputs": [],
   "source": [
    "export_json = json.dumps(export_data)"
   ]
  },
  {
   "cell_type": "code",
   "execution_count": 55,
   "metadata": {},
   "outputs": [
    {
     "data": {
      "text/plain": [
       "'{\"Once a month or less\": [13, 19, 95, 359, 482], \"2 to 3 times a month\": [5, 6, 28, 156, 324], \"3 to 6 times a week\": [0, 1, 21, 90, 256], \"Once or twice a week\": [1, 4, 36, 206, 495], \"Once a day or more\": [1, 1, 9, 22, 53], \"Refused\": [3, 1, 13, 51, 96]}'"
      ]
     },
     "execution_count": 55,
     "metadata": {},
     "output_type": "execute_result"
    }
   ],
   "source": [
    "export_json"
   ]
  },
  {
   "cell_type": "code",
   "execution_count": null,
   "metadata": {},
   "outputs": [],
   "source": []
  }
 ],
 "metadata": {
  "kernelspec": {
   "display_name": "Python 3",
   "language": "python",
   "name": "python3"
  },
  "language_info": {
   "codemirror_mode": {
    "name": "ipython",
    "version": 3
   },
   "file_extension": ".py",
   "mimetype": "text/x-python",
   "name": "python",
   "nbconvert_exporter": "python",
   "pygments_lexer": "ipython3",
   "version": "3.7.0"
  }
 },
 "nbformat": 4,
 "nbformat_minor": 2
}
